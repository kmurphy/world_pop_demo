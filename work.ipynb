{
 "cells": [
  {
   "cell_type": "code",
   "execution_count": 2,
   "metadata": {},
   "outputs": [],
   "source": [
    "import pandas as pd\n",
    "df = pd.read_csv(\"WPP2024_Demographic_Indicators_Medium.csv.gz\", dtype=str)"
   ]
  },
  {
   "cell_type": "code",
   "execution_count": 13,
   "metadata": {},
   "outputs": [
    {
     "data": {
      "text/html": [
       "<div>\n",
       "<style scoped>\n",
       "    .dataframe tbody tr th:only-of-type {\n",
       "        vertical-align: middle;\n",
       "    }\n",
       "\n",
       "    .dataframe tbody tr th {\n",
       "        vertical-align: top;\n",
       "    }\n",
       "\n",
       "    .dataframe thead th {\n",
       "        text-align: right;\n",
       "    }\n",
       "</style>\n",
       "<table border=\"1\" class=\"dataframe\">\n",
       "  <thead>\n",
       "    <tr style=\"text-align: right;\">\n",
       "      <th></th>\n",
       "      <th>SortOrder</th>\n",
       "      <th>LocID</th>\n",
       "      <th>Notes</th>\n",
       "      <th>ISO3_code</th>\n",
       "      <th>ISO2_code</th>\n",
       "      <th>SDMX_code</th>\n",
       "      <th>LocTypeID</th>\n",
       "      <th>LocTypeName</th>\n",
       "      <th>ParentID</th>\n",
       "      <th>Location</th>\n",
       "      <th>...</th>\n",
       "      <th>Q0060Male</th>\n",
       "      <th>Q0060Female</th>\n",
       "      <th>Q1550</th>\n",
       "      <th>Q1550Male</th>\n",
       "      <th>Q1550Female</th>\n",
       "      <th>Q1560</th>\n",
       "      <th>Q1560Male</th>\n",
       "      <th>Q1560Female</th>\n",
       "      <th>NetMigrations</th>\n",
       "      <th>CNMR</th>\n",
       "    </tr>\n",
       "  </thead>\n",
       "  <tbody>\n",
       "    <tr>\n",
       "      <th>0</th>\n",
       "      <td>NaN</td>\n",
       "      <td>5507</td>\n",
       "      <td>NaN</td>\n",
       "      <td>NaN</td>\n",
       "      <td>NaN</td>\n",
       "      <td>NaN</td>\n",
       "      <td>NaN</td>\n",
       "      <td>NaN</td>\n",
       "      <td>NaN</td>\n",
       "      <td>ADB region: Central and West Asia</td>\n",
       "      <td>...</td>\n",
       "      <td>654.5798</td>\n",
       "      <td>631.8067</td>\n",
       "      <td>297.6529</td>\n",
       "      <td>298.4483</td>\n",
       "      <td>297.2079</td>\n",
       "      <td>443.3215</td>\n",
       "      <td>457.3384</td>\n",
       "      <td>427.3167</td>\n",
       "      <td>201.196</td>\n",
       "      <td>2.907</td>\n",
       "    </tr>\n",
       "  </tbody>\n",
       "</table>\n",
       "<p>1 rows × 67 columns</p>\n",
       "</div>"
      ],
      "text/plain": [
       "  SortOrder LocID Notes ISO3_code ISO2_code SDMX_code LocTypeID LocTypeName  \\\n",
       "0       NaN  5507   NaN       NaN       NaN       NaN       NaN         NaN   \n",
       "\n",
       "  ParentID                           Location  ... Q0060Male Q0060Female  \\\n",
       "0      NaN  ADB region: Central and West Asia  ...  654.5798    631.8067   \n",
       "\n",
       "      Q1550 Q1550Male Q1550Female     Q1560 Q1560Male Q1560Female  \\\n",
       "0  297.6529  298.4483    297.2079  443.3215  457.3384    427.3167   \n",
       "\n",
       "  NetMigrations   CNMR  \n",
       "0       201.196  2.907  \n",
       "\n",
       "[1 rows x 67 columns]"
      ]
     },
     "execution_count": 13,
     "metadata": {},
     "output_type": "execute_result"
    }
   ],
   "source": [
    "df.head(1)"
   ]
  },
  {
   "cell_type": "markdown",
   "metadata": {},
   "source": []
  },
  {
   "cell_type": "code",
   "execution_count": 3,
   "metadata": {},
   "outputs": [
    {
     "data": {
      "text/plain": [
       "Index(['SortOrder', 'LocID', 'Notes', 'ISO3_code', 'ISO2_code', 'SDMX_code',\n",
       "       'LocTypeID', 'LocTypeName', 'ParentID', 'Location', 'VarID', 'Variant',\n",
       "       'Time', 'TPopulation1Jan', 'TPopulation1July', 'TPopulationMale1July',\n",
       "       'TPopulationFemale1July', 'PopDensity', 'PopSexRatio', 'MedianAgePop',\n",
       "       'NatChange', 'NatChangeRT', 'PopChange', 'PopGrowthRate',\n",
       "       'DoublingTime', 'Births', 'Births1519', 'CBR', 'TFR', 'NRR', 'MAC',\n",
       "       'SRB', 'Deaths', 'DeathsMale', 'DeathsFemale', 'CDR', 'LEx', 'LExMale',\n",
       "       'LExFemale', 'LE15', 'LE15Male', 'LE15Female', 'LE65', 'LE65Male',\n",
       "       'LE65Female', 'LE80', 'LE80Male', 'LE80Female', 'InfantDeaths', 'IMR',\n",
       "       'LBsurvivingAge1', 'Under5Deaths', 'Q5', 'Q0040', 'Q0040Male',\n",
       "       'Q0040Female', 'Q0060', 'Q0060Male', 'Q0060Female', 'Q1550',\n",
       "       'Q1550Male', 'Q1550Female', 'Q1560', 'Q1560Male', 'Q1560Female',\n",
       "       'NetMigrations', 'CNMR'],\n",
       "      dtype='object')"
      ]
     },
     "execution_count": 3,
     "metadata": {},
     "output_type": "execute_result"
    }
   ],
   "source": [
    "df.columns"
   ]
  },
  {
   "cell_type": "code",
   "execution_count": 12,
   "metadata": {},
   "outputs": [
    {
     "data": {
      "text/plain": [
       "74"
      ]
     },
     "execution_count": 12,
     "metadata": {},
     "output_type": "execute_result"
    }
   ],
   "source": [
    "years = df.Time.unique().tolist()\n",
    "years.index('2024')"
   ]
  },
  {
   "cell_type": "code",
   "execution_count": 8,
   "metadata": {},
   "outputs": [
    {
     "data": {
      "text/plain": [
       "array(['World', 'SDG region', 'Development group', 'Special other',\n",
       "       'Income group', 'Ad Hoc groups', 'Geographic region', 'Subregion',\n",
       "       'Country/Area'], dtype=object)"
      ]
     },
     "execution_count": 8,
     "metadata": {},
     "output_type": "execute_result"
    }
   ],
   "source": [
    "df.LocTypeName.dropna().unique()"
   ]
  },
  {
   "cell_type": "code",
   "execution_count": null,
   "metadata": {},
   "outputs": [],
   "source": []
  }
 ],
 "metadata": {
  "kernelspec": {
   "display_name": "base",
   "language": "python",
   "name": "python3"
  },
  "language_info": {
   "codemirror_mode": {
    "name": "ipython",
    "version": 3
   },
   "file_extension": ".py",
   "mimetype": "text/x-python",
   "name": "python",
   "nbconvert_exporter": "python",
   "pygments_lexer": "ipython3",
   "version": "3.11.5"
  }
 },
 "nbformat": 4,
 "nbformat_minor": 2
}
